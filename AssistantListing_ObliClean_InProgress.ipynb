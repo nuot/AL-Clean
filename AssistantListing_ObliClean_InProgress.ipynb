{
  "nbformat": 4,
  "nbformat_minor": 0,
  "metadata": {
    "colab": {
      "name": "AssistantListing-ObliClean-InProgress.ipynb",
      "provenance": [],
      "collapsed_sections": [],
      "authorship_tag": "ABX9TyM0IB+RVJbiEaBox3dfV8/v",
      "include_colab_link": true
    },
    "kernelspec": {
      "name": "python3",
      "display_name": "Python 3"
    }
  },
  "cells": [
    {
      "cell_type": "markdown",
      "metadata": {
        "id": "view-in-github",
        "colab_type": "text"
      },
      "source": [
        "<a href=\"https://colab.research.google.com/github/nuot/AL-Clean/blob/main/AssistantListing_ObliClean_InProgress.ipynb\" target=\"_parent\"><img src=\"https://colab.research.google.com/assets/colab-badge.svg\" alt=\"Open In Colab\"/></a>"
      ]
    },
    {
      "cell_type": "markdown",
      "metadata": {
        "id": "x5lpfv5U-2qy"
      },
      "source": [
        "**Assistant Listing Obligation data cleaning project Version1** \n",
        "<br>\n",
        "\n",
        "Author: Nuo Tian"
      ]
    },
    {
      "cell_type": "markdown",
      "metadata": {
        "id": "0sEFWDnF_M6s"
      },
      "source": [
        "\n",
        "\n",
        "**Last Updated: 03/16/2021**"
      ]
    },
    {
      "cell_type": "markdown",
      "metadata": {
        "id": "trCjxDnNUAEI"
      },
      "source": [
        "Ask user input for the file name, target the obligation column"
      ]
    },
    {
      "cell_type": "code",
      "metadata": {
        "id": "v-NLhLIf8Cal",
        "colab": {
          "base_uri": "https://localhost:8080/"
        },
        "outputId": "f8b4e49f-9e8f-4353-fc5c-5631c33e4ad7"
      },
      "source": [
        "import pandas as pd\n",
        "import re\n",
        "\n",
        "filename = input(\"Enter name of input file (including the file extension):\")\n",
        "data = pd.read_csv(filename)"
      ],
      "execution_count": 81,
      "outputs": [
        {
          "output_type": "stream",
          "text": [
            "Enter name of input file (including the file extension):AssistanceListings_DataGov_PUBLIC_WEEKLY_20210213 - AssistanceListings_DataGov_PUBLIC_WEEKLY_20210213.csv\n"
          ],
          "name": "stdout"
        }
      ]
    },
    {
      "cell_type": "markdown",
      "metadata": {
        "id": "lw5tJ0xeZCDh"
      },
      "source": [
        "Loop through column names, find the column name contains 'Obligation' and get the column name "
      ]
    },
    {
      "cell_type": "code",
      "metadata": {
        "id": "NPIXSb7xXsuM"
      },
      "source": [
        "colnames = list(data.columns)\n",
        "obligations_colname = [col for col in colnames if re.findall(r'Obligation', col)][0]\n",
        "obligations = data[obligations_colname]"
      ],
      "execution_count": 82,
      "outputs": []
    },
    {
      "cell_type": "markdown",
      "metadata": {
        "id": "LqRVbJqHaIoW"
      },
      "source": [
        "find all types in each row"
      ]
    },
    {
      "cell_type": "code",
      "metadata": {
        "id": "ZPPQ5WAouXK7"
      },
      "source": [
        "types = []\n",
        "for row in obligations:\n",
        "  a = re.findall(r'\\((.*?)\\) FY',str(row))\n",
        "  if a:\n",
        "    types.append(a)\n",
        "  else:\n",
        "    types.append('None')"
      ],
      "execution_count": 83,
      "outputs": []
    },
    {
      "cell_type": "code",
      "metadata": {
        "id": "OTSkBjI2CWlg"
      },
      "source": [
        "types_dedup = []\n",
        "for type1 in types:\n",
        "    type1 = list(dict.fromkeys(type1))\n",
        "    types_dedup.append(type1)"
      ],
      "execution_count": 84,
      "outputs": []
    },
    {
      "cell_type": "code",
      "metadata": {
        "id": "l1AdFCvLym7w"
      },
      "source": [
        "data['Obligation Types'] = types_dedup"
      ],
      "execution_count": 85,
      "outputs": []
    },
    {
      "cell_type": "markdown",
      "metadata": {
        "id": "nsRCHeCX_km6"
      },
      "source": [
        "Next working on seprating the $amount for each obligation type"
      ]
    },
    {
      "cell_type": "code",
      "metadata": {
        "id": "ZVsNMVINGO7Q"
      },
      "source": [
        "def listToStringWithoutBrackets(list1):\n",
        "    return str(list1).replace('[','').replace(']','').replace(\"'\",\"\")"
      ],
      "execution_count": 86,
      "outputs": []
    },
    {
      "cell_type": "code",
      "metadata": {
        "id": "r-EUXla2GgLX"
      },
      "source": [
        "Obli_types = []\n",
        "for i in range(len(data['Obligation Types'])):\n",
        "  res = listToStringWithoutBrackets(data['Obligation Types'][i])\n",
        "  Obli_types.append(res)"
      ],
      "execution_count": 87,
      "outputs": []
    },
    {
      "cell_type": "code",
      "metadata": {
        "id": "f5umNJEyGgE_"
      },
      "source": [
        "data['Obligation Types'] = Obli_types"
      ],
      "execution_count": 88,
      "outputs": []
    },
    {
      "cell_type": "code",
      "metadata": {
        "id": "m5ZQhOZsIUEU"
      },
      "source": [
        "maxlen = max(list(map(lambda x: len(x.split(\",\")) ,data['Obligation Types'])))\n",
        "cols = [\"Obligation\"+str(x)   for x in range(maxlen)]\n",
        "datalist = list(map(lambda x: x.split(\",\"), data['Obligation Types']))\n",
        "newdf = pd.DataFrame(data=datalist, columns=cols) \n",
        "data = pd.concat([data, newdf], axis=1) "
      ],
      "execution_count": 89,
      "outputs": []
    },
    {
      "cell_type": "code",
      "metadata": {
        "id": "0lvDM6TCd0wR"
      },
      "source": [
        "#mask = data.applymap(lambda x: x is None)\n",
        "#cols = data.columns[(mask).any()]\n",
        "#for col in data[cols]:\n",
        "    #data.loc[mask[col], col] = ''"
      ],
      "execution_count": null,
      "outputs": []
    },
    {
      "cell_type": "markdown",
      "metadata": {
        "id": "3TuDNgp1MTjn"
      },
      "source": [
        "Amount"
      ]
    },
    {
      "cell_type": "code",
      "metadata": {
        "id": "wJhvZUs9cY-S"
      },
      "source": [
        "obli1 = data['Obligations (122)'].str.split(')', expand=True)"
      ],
      "execution_count": 90,
      "outputs": []
    },
    {
      "cell_type": "code",
      "metadata": {
        "id": "2ma7Kj3V3lK0"
      },
      "source": [
        "df = pd.DataFrame()\n",
        "\n",
        "i = 0\n",
        "for i in range(len(obli1.columns)):\n",
        "  val = []\n",
        "  for row in obli1[i]:\n",
        "    a = re.findall(r'FY [0-9][0-9]\\$[^\\]]+[.%]?',str(row))\n",
        "    b = re.findall(r'FY [0-9][0-9] est \\$[^\\]]+[.%]?',str(row))\n",
        "    if a:\n",
        "      val.append(a)\n",
        "    elif b:\n",
        "      val.append(b)\n",
        "    else:\n",
        "      val.append('')\n",
        "  df.insert(i, i, val, True) \n"
      ],
      "execution_count": 91,
      "outputs": []
    },
    {
      "cell_type": "code",
      "metadata": {
        "id": "WafkfzO90Xl_"
      },
      "source": [
        "df = df.applymap(str)"
      ],
      "execution_count": 92,
      "outputs": []
    },
    {
      "cell_type": "code",
      "metadata": {
        "id": "nuabgMlesF4B"
      },
      "source": [
        "import string\n",
        "\n",
        "def remove_punctuations(text):\n",
        "    for punctuation in string.punctuation:\n",
        "        text = text.replace(\"['\", \"\")\n",
        "        text = text.replace(\"- ']\", \"\")\n",
        "    return text"
      ],
      "execution_count": 94,
      "outputs": []
    },
    {
      "cell_type": "code",
      "metadata": {
        "id": "OMSxcT1MsMx2"
      },
      "source": [
        "i = 0\n",
        "while i < len(df.columns):\n",
        "  df[i] = df[i].apply(remove_punctuations)\n",
        "  i +=1"
      ],
      "execution_count": 95,
      "outputs": []
    },
    {
      "cell_type": "code",
      "metadata": {
        "id": "_2HJXa8VMc1r"
      },
      "source": [
        "for j in range(maxlen):\n",
        "  FY19 = []\n",
        "  FY20 = []\n",
        "  FY20_Flag = []\n",
        "  FY21 = []\n",
        "  FY21_Flag = []\n",
        "  name = 'Obligation'+str(j)\n",
        "  for i in range(len(df[j])):  \n",
        "    a = re.findall(r'FY 19\\$[^\\]]+[.%]?',df[j+1][i])\n",
        "    b = re.findall(r'FY 20\\$[^\\]]+[.%]?',df[j+1][i])\n",
        "    c = re.findall(r'FY 20 est \\$[^\\]]+[.%]?', df[j+1][i])\n",
        "    d = re.findall(r'FY 21\\$[^\\]]+[.%]?',df[j+1][i])\n",
        "    e = re.findall(r'FY 21 est \\$[^\\]]+[.%]?', df[j+1][i])\n",
        "    if a :\n",
        "      FY19.append(a[0].split(';')[0].replace('FY 19$',''))\n",
        "    else:\n",
        "      FY19.append('')\n",
        "    if b:\n",
        "      FY20.append(b[0].split(';')[0].replace('FY 20$',''))\n",
        "      FY20_Flag.append(0)\n",
        "    elif c:\n",
        "      FY20.append(c[0].split(';')[0].replace('FY 20 est $',''))\n",
        "      FY20_Flag.append(1)\n",
        "    else:\n",
        "      FY20.append('')\n",
        "      FY20_Flag.append('')\n",
        "    \n",
        "    if d:\n",
        "      FY21.append(d[0].split(';')[0].replace('FY 21$',''))\n",
        "      FY21_Flag.append(0)\n",
        "    elif e:\n",
        "      FY21.append(e[0].split(';')[0].replace('FY 21 est $',''))\n",
        "      FY21_Flag.append(1)\n",
        "    else:\n",
        "      FY21.append('')\n",
        "      FY21_Flag.append('')\n",
        "\n",
        "  data.insert(data.columns.get_loc(name) + 1, 'FY21_Flag'+ str(j), FY21_Flag)\n",
        "  data.insert(data.columns.get_loc(name) +1, 'FY21_'+ str(j), FY21)\n",
        "  data.insert(data.columns.get_loc(name) +1, 'FY20_Flag'+ str(j), FY20_Flag)\n",
        "  data.insert(data.columns.get_loc(name) +1, 'FY20_'+ str(j), FY20)\n",
        "  data.insert(data.columns.get_loc(name) +1, 'FY19_'+ str(j), FY19)"
      ],
      "execution_count": 98,
      "outputs": []
    },
    {
      "cell_type": "code",
      "metadata": {
        "colab": {
          "base_uri": "https://localhost:8080/",
          "height": 35
        },
        "id": "93Jp_ynSgYAI",
        "outputId": "27a8b4aa-d60f-4c43-f947-a5ba2554311e"
      },
      "source": [
        "filename"
      ],
      "execution_count": 100,
      "outputs": [
        {
          "output_type": "execute_result",
          "data": {
            "application/vnd.google.colaboratory.intrinsic+json": {
              "type": "string"
            },
            "text/plain": [
              "'AssistanceListings_DataGov_PUBLIC_WEEKLY_20210213 - AssistanceListings_DataGov_PUBLIC_WEEKLY_20210213.csv'"
            ]
          },
          "metadata": {
            "tags": []
          },
          "execution_count": 100
        }
      ]
    },
    {
      "cell_type": "code",
      "metadata": {
        "id": "vf9NOjX0g_VT"
      },
      "source": [
        "reference_Data = re.findall('\\d+', filename)[0]"
      ],
      "execution_count": 107,
      "outputs": []
    },
    {
      "cell_type": "code",
      "metadata": {
        "id": "abM8uLs8hEOr"
      },
      "source": [
        "data['Reference_Date'] = reference_Data"
      ],
      "execution_count": 108,
      "outputs": []
    },
    {
      "cell_type": "code",
      "metadata": {
        "colab": {
          "base_uri": "https://localhost:8080/",
          "height": 17
        },
        "id": "qhS827qUxcR3",
        "outputId": "edf9fdc3-d72b-413a-e9ed-595ddf773ea8"
      },
      "source": [
        "data.to_csv('AssistanceListingFinal.csv')"
      ],
      "execution_count": 1155,
      "outputs": [
        {
          "output_type": "display_data",
          "data": {
            "application/javascript": [
              "\n",
              "    async function download(id, filename, size) {\n",
              "      if (!google.colab.kernel.accessAllowed) {\n",
              "        return;\n",
              "      }\n",
              "      const div = document.createElement('div');\n",
              "      const label = document.createElement('label');\n",
              "      label.textContent = `Downloading \"${filename}\": `;\n",
              "      div.appendChild(label);\n",
              "      const progress = document.createElement('progress');\n",
              "      progress.max = size;\n",
              "      div.appendChild(progress);\n",
              "      document.body.appendChild(div);\n",
              "\n",
              "      const buffers = [];\n",
              "      let downloaded = 0;\n",
              "\n",
              "      const channel = await google.colab.kernel.comms.open(id);\n",
              "      // Send a message to notify the kernel that we're ready.\n",
              "      channel.send({})\n",
              "\n",
              "      for await (const message of channel.messages) {\n",
              "        // Send a message to notify the kernel that we're ready.\n",
              "        channel.send({})\n",
              "        if (message.buffers) {\n",
              "          for (const buffer of message.buffers) {\n",
              "            buffers.push(buffer);\n",
              "            downloaded += buffer.byteLength;\n",
              "            progress.value = downloaded;\n",
              "          }\n",
              "        }\n",
              "      }\n",
              "      const blob = new Blob(buffers, {type: 'application/binary'});\n",
              "      const a = document.createElement('a');\n",
              "      a.href = window.URL.createObjectURL(blob);\n",
              "      a.download = filename;\n",
              "      div.appendChild(a);\n",
              "      a.click();\n",
              "      div.remove();\n",
              "    }\n",
              "  "
            ],
            "text/plain": [
              "<IPython.core.display.Javascript object>"
            ]
          },
          "metadata": {
            "tags": []
          }
        },
        {
          "output_type": "display_data",
          "data": {
            "application/javascript": [
              "download(\"download_8c9bd807-4601-4d2a-bb3c-b7db0268c3a3\", \"AssistanceListingFinal.csv\", 22792620)"
            ],
            "text/plain": [
              "<IPython.core.display.Javascript object>"
            ]
          },
          "metadata": {
            "tags": []
          }
        }
      ]
    }
  ]
}