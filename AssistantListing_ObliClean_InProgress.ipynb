{
  "nbformat": 4,
  "nbformat_minor": 0,
  "metadata": {
    "colab": {
      "name": "AssistantListing-ObliClean-InProgress.ipynb",
      "provenance": [],
      "collapsed_sections": [],
      "authorship_tag": "ABX9TyNgzSF+HNxjxSYizksk9phB",
      "include_colab_link": true
    },
    "kernelspec": {
      "name": "python3",
      "display_name": "Python 3"
    }
  },
  "cells": [
    {
      "cell_type": "markdown",
      "metadata": {
        "id": "view-in-github",
        "colab_type": "text"
      },
      "source": [
        "<a href=\"https://colab.research.google.com/github/nuot/AL-Clean/blob/main/AssistantListing_ObliClean_InProgress.ipynb\" target=\"_parent\"><img src=\"https://colab.research.google.com/assets/colab-badge.svg\" alt=\"Open In Colab\"/></a>"
      ]
    },
    {
      "cell_type": "markdown",
      "metadata": {
        "id": "x5lpfv5U-2qy"
      },
      "source": [
        "**Assistant Listing Obligation data cleaning project Version1** \n",
        "<br>\n",
        "\n",
        "Author: Nuo Tian"
      ]
    },
    {
      "cell_type": "markdown",
      "metadata": {
        "id": "0sEFWDnF_M6s"
      },
      "source": [
        "\n",
        "\n",
        "**Last Updated: 03/16/2021**"
      ]
    },
    {
      "cell_type": "markdown",
      "metadata": {
        "id": "trCjxDnNUAEI"
      },
      "source": [
        "Ask user input for the file name, target the obligation column"
      ]
    },
    {
      "cell_type": "code",
      "metadata": {
        "id": "v-NLhLIf8Cal",
        "colab": {
          "base_uri": "https://localhost:8080/"
        },
        "outputId": "c0094358-2d89-4db7-87d9-279c822b9c5d"
      },
      "source": [
        "import pandas as pd\n",
        "import re\n",
        "\n",
        "filename = input(\"Enter name of input file (including the file extension):\")\n",
        "data = pd.read_csv(filename, encoding='cp1252')"
      ],
      "execution_count": 189,
      "outputs": [
        {
          "output_type": "stream",
          "text": [
            "Enter name of input file (including the file extension):AssistanceListings_DataGov_PUBLIC_WEEKLY_20210320.csv\n"
          ],
          "name": "stdout"
        }
      ]
    },
    {
      "cell_type": "markdown",
      "metadata": {
        "id": "lw5tJ0xeZCDh"
      },
      "source": [
        "Loop through column names, find the column name contains 'Obligation' and get the column name "
      ]
    },
    {
      "cell_type": "code",
      "metadata": {
        "id": "NPIXSb7xXsuM"
      },
      "source": [
        "colnames = list(data.columns)\n",
        "obligations_colname = [col for col in colnames if re.findall(r'Obligation', col)][0]\n",
        "obligations = data[obligations_colname]"
      ],
      "execution_count": 190,
      "outputs": []
    },
    {
      "cell_type": "markdown",
      "metadata": {
        "id": "LqRVbJqHaIoW"
      },
      "source": [
        "find all types in each row"
      ]
    },
    {
      "cell_type": "code",
      "metadata": {
        "id": "ZPPQ5WAouXK7"
      },
      "source": [
        "types = []\n",
        "for row in obligations:\n",
        "  a = re.findall(r'\\((.*?)\\) FY',str(row))\n",
        "  if a:\n",
        "    types.append(a)\n",
        "  else:\n",
        "    types.append('None')"
      ],
      "execution_count": 191,
      "outputs": []
    },
    {
      "cell_type": "code",
      "metadata": {
        "id": "OTSkBjI2CWlg"
      },
      "source": [
        "types_dedup = []\n",
        "for type1 in types:\n",
        "    type1 = list(dict.fromkeys(type1))\n",
        "    types_dedup.append(type1)"
      ],
      "execution_count": 192,
      "outputs": []
    },
    {
      "cell_type": "code",
      "metadata": {
        "id": "l1AdFCvLym7w"
      },
      "source": [
        "data['Obligation Types'] = types_dedup"
      ],
      "execution_count": 193,
      "outputs": []
    },
    {
      "cell_type": "markdown",
      "metadata": {
        "id": "nsRCHeCX_km6"
      },
      "source": [
        "Next working on seprating the $amount for each obligation type"
      ]
    },
    {
      "cell_type": "code",
      "metadata": {
        "id": "ZVsNMVINGO7Q"
      },
      "source": [
        "def listToStringWithoutBrackets(list1):\n",
        "    return str(list1).replace('[','').replace(']','').replace(\"'\",\"\")"
      ],
      "execution_count": 194,
      "outputs": []
    },
    {
      "cell_type": "code",
      "metadata": {
        "id": "r-EUXla2GgLX"
      },
      "source": [
        "Obli_types = []\n",
        "for i in range(len(data['Obligation Types'])):\n",
        "  res = listToStringWithoutBrackets(data['Obligation Types'][i])\n",
        "  Obli_types.append(res)"
      ],
      "execution_count": 195,
      "outputs": []
    },
    {
      "cell_type": "code",
      "metadata": {
        "id": "f5umNJEyGgE_"
      },
      "source": [
        "data['Obligation Types'] = Obli_types"
      ],
      "execution_count": 196,
      "outputs": []
    },
    {
      "cell_type": "code",
      "metadata": {
        "id": "m5ZQhOZsIUEU"
      },
      "source": [
        "maxlen = max(list(map(lambda x: len(x.split(\",\")) ,data['Obligation Types'])))\n",
        "cols = [\"Obligation\"+str(x)   for x in range(maxlen)]\n",
        "datalist = list(map(lambda x: x.split(\",\"), data['Obligation Types']))\n",
        "newdf = pd.DataFrame(data=datalist, columns=cols) \n",
        "data = pd.concat([data, newdf], axis=1) "
      ],
      "execution_count": 197,
      "outputs": []
    },
    {
      "cell_type": "code",
      "metadata": {
        "id": "0lvDM6TCd0wR"
      },
      "source": [
        "#mask = data.applymap(lambda x: x is None)\n",
        "#cols = data.columns[(mask).any()]\n",
        "#for col in data[cols]:\n",
        "    #data.loc[mask[col], col] = ''"
      ],
      "execution_count": 188,
      "outputs": []
    },
    {
      "cell_type": "markdown",
      "metadata": {
        "id": "3TuDNgp1MTjn"
      },
      "source": [
        "Amount"
      ]
    },
    {
      "cell_type": "code",
      "metadata": {
        "id": "wJhvZUs9cY-S"
      },
      "source": [
        "obli1 = obligations.str.split(')', expand=True)"
      ],
      "execution_count": 198,
      "outputs": []
    },
    {
      "cell_type": "code",
      "metadata": {
        "id": "2ma7Kj3V3lK0"
      },
      "source": [
        "df = pd.DataFrame()\n",
        "\n",
        "i = 0\n",
        "for i in range(len(obli1.columns)):\n",
        "  val = []\n",
        "  for row in obli1[i]:\n",
        "    a = re.findall(r'FY [0-9][0-9]\\$[^\\]]+[.%]?',str(row))\n",
        "    b = re.findall(r'FY [0-9][0-9] est \\$[^\\]]+[.%]?',str(row))\n",
        "    if a:\n",
        "      val.append(a)\n",
        "    elif b:\n",
        "      val.append(b)\n",
        "    else:\n",
        "      val.append('')\n",
        "  df.insert(i, i, val, True) \n"
      ],
      "execution_count": 199,
      "outputs": []
    },
    {
      "cell_type": "code",
      "metadata": {
        "id": "WafkfzO90Xl_"
      },
      "source": [
        "df = df.applymap(str)"
      ],
      "execution_count": 200,
      "outputs": []
    },
    {
      "cell_type": "code",
      "metadata": {
        "id": "nuabgMlesF4B"
      },
      "source": [
        "import string\n",
        "\n",
        "def remove_punctuations(text):\n",
        "    for punctuation in string.punctuation:\n",
        "        text = text.replace(\"['\", \"\")\n",
        "        text = text.replace(\"- ']\", \"\")\n",
        "    return text"
      ],
      "execution_count": 201,
      "outputs": []
    },
    {
      "cell_type": "code",
      "metadata": {
        "id": "OMSxcT1MsMx2"
      },
      "source": [
        "i = 0\n",
        "while i < len(df.columns):\n",
        "  df[i] = df[i].apply(remove_punctuations)\n",
        "  i +=1"
      ],
      "execution_count": 202,
      "outputs": []
    },
    {
      "cell_type": "code",
      "metadata": {
        "id": "l5oHytO63mTL"
      },
      "source": [
        "e1 = df[1][0].replace('$', ';')\n",
        "e1 = e1.split(';')"
      ],
      "execution_count": 203,
      "outputs": []
    },
    {
      "cell_type": "code",
      "metadata": {
        "id": "_2HJXa8VMc1r"
      },
      "source": [
        "for j in range(maxlen):\n",
        "  FY1 = []\n",
        "  FY2 = []\n",
        "  FY2_Flag = []\n",
        "  FY3 = []\n",
        "  FY3_Flag = []\n",
        "  name = 'Obligation'+str(j)\n",
        "  pattern1 = e1[0] + '\\$[^\\]]+[.%]?'\n",
        "  pattern2 = e1[2].lstrip() + '\\$[^\\]]+[.%]?'\n",
        "  pattern2_1 = re.sub(' est', '', e1[2]).strip() + '\\$[^\\]]+[.%]?'\n",
        "  pattern3 = e1[4].lstrip() + '\\$[^\\]]+[.%]?'\n",
        "  pattern3_1 = re.sub(' est', '', e1[4]).strip() + '\\$[^\\]]+[.%]?'\n",
        "  rep1 = e1[0]+'$'\n",
        "  rep2 = re.sub(' est', '', e1[2]).strip() + '$'\n",
        "  rep3 = e1[2].lstrip()+'$'\n",
        "  rep4 = re.sub(' est', '', e1[4]).strip() + '$'\n",
        "  rep5 = e1[4].lstrip()+'$'\n",
        "  for i in range(len(df[j])):  \n",
        "    a = re.findall(pattern1,df[j+1][i])\n",
        "    b = re.findall(pattern2_1,df[j+1][i])\n",
        "    c = re.findall(pattern2, df[j+1][i])\n",
        "    d = re.findall(pattern3_1,df[j+1][i])\n",
        "    e = re.findall(pattern3, df[j+1][i])\n",
        "    if a :\n",
        "      FY1.append(a[0].split(';')[0].replace(rep1,''))\n",
        "    else:\n",
        "      FY1.append('')\n",
        "    if b:\n",
        "      FY2.append(b[0].split(';')[0].replace(rep2,''))\n",
        "      FY2_Flag.append(0)\n",
        "    elif c:\n",
        "      FY2.append(c[0].split(';')[0].replace(rep3,''))\n",
        "      FY2_Flag.append(1)\n",
        "    else:\n",
        "      FY2.append('')\n",
        "      FY2_Flag.append('')\n",
        "    \n",
        "    if d:\n",
        "      FY3.append(d[0].split(';')[0].replace(rep4,''))\n",
        "      FY3_Flag.append(0)\n",
        "    elif e:\n",
        "      FY3.append(e[0].split(';')[0].replace(rep5,''))\n",
        "      FY3_Flag.append(1)\n",
        "    else:\n",
        "      FY3.append('')\n",
        "      FY3_Flag.append('')\n",
        "\n",
        "  data.insert(data.columns.get_loc(name) + 1, rep4.strip('$')+ '_Flag_' + str(j), FY3_Flag)\n",
        "  data.insert(data.columns.get_loc(name) +1, rep4.strip('$') + '_' + str(j), FY3)\n",
        "  data.insert(data.columns.get_loc(name) +1, rep2.strip('$') +'_Flag_' + str(j), FY2_Flag)\n",
        "  data.insert(data.columns.get_loc(name) +1, rep2.strip('$')+ '_' + str(j), FY2)\n",
        "  data.insert(data.columns.get_loc(name) +1, rep1.strip('$')+ '_' + str(j), FY1)"
      ],
      "execution_count": 169,
      "outputs": []
    },
    {
      "cell_type": "code",
      "metadata": {
        "colab": {
          "base_uri": "https://localhost:8080/",
          "height": 35
        },
        "id": "93Jp_ynSgYAI",
        "outputId": "004542dc-b5b0-44c0-9cfd-dc2811d9e2b8"
      },
      "source": [
        "filename"
      ],
      "execution_count": 170,
      "outputs": [
        {
          "output_type": "execute_result",
          "data": {
            "application/vnd.google.colaboratory.intrinsic+json": {
              "type": "string"
            },
            "text/plain": [
              "'AssistanceListings_DataGov_PUBLIC_WEEKLY_20210213 - AssistanceListings_DataGov_PUBLIC_WEEKLY_20210213.csv'"
            ]
          },
          "metadata": {
            "tags": []
          },
          "execution_count": 170
        }
      ]
    },
    {
      "cell_type": "code",
      "metadata": {
        "id": "vf9NOjX0g_VT"
      },
      "source": [
        "reference_Data = re.findall('\\d+', filename)[0]"
      ],
      "execution_count": 171,
      "outputs": []
    },
    {
      "cell_type": "code",
      "metadata": {
        "id": "abM8uLs8hEOr"
      },
      "source": [
        "data['Reference_Date'] = reference_Data"
      ],
      "execution_count": 172,
      "outputs": []
    },
    {
      "cell_type": "code",
      "metadata": {
        "id": "qhS827qUxcR3"
      },
      "source": [
        "data.to_csv('AssistanceListingFinal.csv')"
      ],
      "execution_count": 173,
      "outputs": []
    }
  ]
}